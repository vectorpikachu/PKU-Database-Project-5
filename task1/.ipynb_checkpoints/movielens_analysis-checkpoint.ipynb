{
 "cells": [
  {
   "cell_type": "markdown",
   "id": "24cd0ee3",
   "metadata": {},
   "source": [
    "# MovieLens 数据分析任务"
   ]
  },
  {
   "cell_type": "code",
   "execution_count": null,
   "id": "f369bfda",
   "metadata": {},
   "outputs": [],
   "source": [
    "import pandas as pd\n",
    "\n",
    "# 加载数据\n",
    "movies_df = pd.read_csv(\"movies.csv\")\n",
    "ratings_df = pd.read_csv(\"ratings.csv\")\n",
    "\n",
    "# 合并两个数据集\n",
    "merged_df = pd.merge(ratings_df, movies_df, on=\"movieId\")\n"
   ]
  },
  {
   "cell_type": "markdown",
   "id": "f2433944",
   "metadata": {},
   "source": [
    "## 任务一：平均得分前10的电影"
   ]
  },
  {
   "cell_type": "code",
   "execution_count": null,
   "id": "fa5a2e75",
   "metadata": {},
   "outputs": [],
   "source": [
    "top10_avg_rated = (\n",
    "    merged_df.groupby(['movieId', 'title'])['rating']\n",
    "    .mean()\n",
    "    .reset_index()\n",
    "    .sort_values(by='rating', ascending=False)\n",
    "    .head(10)\n",
    ")\n",
    "top10_avg_rated\n"
   ]
  },
  {
   "cell_type": "markdown",
   "id": "35f1fd88",
   "metadata": {},
   "source": [
    "## 任务二：每个类型的平均得分前10的电影"
   ]
  },
  {
   "cell_type": "code",
   "execution_count": null,
   "id": "ac198a1e",
   "metadata": {},
   "outputs": [],
   "source": [
    "genre_expanded_df = merged_df.copy()\n",
    "genre_expanded_df['genres'] = genre_expanded_df['genres'].str.split('|')\n",
    "genre_expanded_df = genre_expanded_df.explode('genres')\n",
    "\n",
    "genre_movie_avg = (\n",
    "    genre_expanded_df.groupby(['genres', 'movieId', 'title'])['rating']\n",
    "    .mean()\n",
    "    .reset_index()\n",
    ")\n",
    "\n",
    "top10_by_genre = genre_movie_avg.sort_values(['genres', 'rating'], ascending=[True, False])\n",
    "top10_by_genre = top10_by_genre.groupby('genres').head(10)\n",
    "top10_by_genre\n"
   ]
  },
  {
   "cell_type": "markdown",
   "id": "704180fd",
   "metadata": {},
   "source": [
    "## 任务三：每个用户评分最好的前5类型"
   ]
  },
  {
   "cell_type": "code",
   "execution_count": null,
   "id": "38ae8eee",
   "metadata": {},
   "outputs": [],
   "source": [
    "user_genre_rating = (\n",
    "    genre_expanded_df.groupby(['userId', 'genres'])['rating']\n",
    "    .mean()\n",
    "    .reset_index()\n",
    ")\n",
    "\n",
    "top5_genres_by_user_rating = user_genre_rating.sort_values(['userId', 'rating'], ascending=[True, False])\n",
    "top5_genres_by_user_rating = top5_genres_by_user_rating.groupby('userId').head(5)\n",
    "top5_genres_by_user_rating\n"
   ]
  },
  {
   "cell_type": "markdown",
   "id": "efcbfb7c",
   "metadata": {},
   "source": [
    "## 任务四：每个用户观影次数最多的前5类型"
   ]
  },
  {
   "cell_type": "code",
   "execution_count": null,
   "id": "8a252a8a",
   "metadata": {},
   "outputs": [],
   "source": [
    "user_genre_count = (\n",
    "    genre_expanded_df.groupby(['userId', 'genres'])['rating']\n",
    "    .count()\n",
    "    .reset_index(name='view_count')\n",
    ")\n",
    "\n",
    "top5_genres_by_user_views = user_genre_count.sort_values(['userId', 'view_count'], ascending=[True, False])\n",
    "top5_genres_by_user_views = top5_genres_by_user_views.groupby('userId').head(5)\n",
    "top5_genres_by_user_views\n"
   ]
  }
 ],
 "metadata": {},
 "nbformat": 4,
 "nbformat_minor": 5
}
