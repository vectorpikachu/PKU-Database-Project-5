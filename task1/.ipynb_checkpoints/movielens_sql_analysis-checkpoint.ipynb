{
 "cells": [
  {
   "cell_type": "markdown",
   "id": "2041437e",
   "metadata": {},
   "source": [
    "# MovieLens 数据分析 - SQL 版本"
   ]
  },
  {
   "cell_type": "markdown",
   "id": "bc4a301e",
   "metadata": {},
   "source": [
    "## 假设表结构\n",
    "- `movies(movieId INT, title TEXT, genres TEXT)`\n",
    "- `ratings(userId INT, movieId INT, rating FLOAT, timestamp BIGINT)`"
   ]
  },
  {
   "cell_type": "markdown",
   "id": "816d3126",
   "metadata": {},
   "source": [
    "## 任务一：列出平均得分前10的电影"
   ]
  },
  {
   "cell_type": "code",
   "execution_count": null,
   "id": "794ce0ed",
   "metadata": {},
   "outputs": [],
   "source": [
    "SELECT \n",
    "    m.title,\n",
    "    AVG(r.rating) AS avg_rating\n",
    "FROM \n",
    "    ratings r\n",
    "JOIN \n",
    "    movies m ON r.movieId = m.movieId\n",
    "GROUP BY \n",
    "    m.title\n",
    "ORDER BY \n",
    "    avg_rating DESC\n",
    "LIMIT 10;\n"
   ]
  },
  {
   "cell_type": "markdown",
   "id": "b6370602",
   "metadata": {},
   "source": [
    "## 任务二：每个类型的平均得分前10的电影（使用 PostgreSQL）"
   ]
  },
  {
   "cell_type": "code",
   "execution_count": null,
   "id": "4b32311b",
   "metadata": {},
   "outputs": [],
   "source": [
    "WITH genre_expanded AS (\n",
    "    SELECT \n",
    "        r.rating,\n",
    "        m.movieId,\n",
    "        m.title,\n",
    "        unnest(string_to_array(m.genres, '|')) AS genre\n",
    "    FROM \n",
    "        ratings r\n",
    "    JOIN \n",
    "        movies m ON r.movieId = m.movieId\n",
    ")\n",
    "SELECT \n",
    "    genre,\n",
    "    title,\n",
    "    AVG(rating) AS avg_rating\n",
    "FROM \n",
    "    genre_expanded\n",
    "GROUP BY \n",
    "    genre, title\n",
    "ORDER BY \n",
    "    genre, avg_rating DESC;\n"
   ]
  },
  {
   "cell_type": "markdown",
   "id": "59188482",
   "metadata": {},
   "source": [
    "## 任务三：每个用户评分最高的前5个电影类型"
   ]
  },
  {
   "cell_type": "code",
   "execution_count": null,
   "id": "899ad37c",
   "metadata": {},
   "outputs": [],
   "source": [
    "WITH genre_expanded AS (\n",
    "    SELECT \n",
    "        r.userId,\n",
    "        r.rating,\n",
    "        unnest(string_to_array(m.genres, '|')) AS genre\n",
    "    FROM \n",
    "        ratings r\n",
    "    JOIN \n",
    "        movies m ON r.movieId = m.movieId\n",
    "),\n",
    "genre_avg AS (\n",
    "    SELECT \n",
    "        userId,\n",
    "        genre,\n",
    "        AVG(rating) AS avg_rating,\n",
    "        ROW_NUMBER() OVER (PARTITION BY userId ORDER BY AVG(rating) DESC) AS rank\n",
    "    FROM \n",
    "        genre_expanded\n",
    "    GROUP BY \n",
    "        userId, genre\n",
    ")\n",
    "SELECT \n",
    "    userId, genre, avg_rating\n",
    "FROM \n",
    "    genre_avg\n",
    "WHERE \n",
    "    rank <= 5;\n"
   ]
  },
  {
   "cell_type": "markdown",
   "id": "7ab209eb",
   "metadata": {},
   "source": [
    "## 任务四：每个用户观影次数最多的前5个电影类型"
   ]
  },
  {
   "cell_type": "code",
   "execution_count": null,
   "id": "8cd99208",
   "metadata": {},
   "outputs": [],
   "source": [
    "WITH genre_expanded AS (\n",
    "    SELECT \n",
    "        r.userId,\n",
    "        unnest(string_to_array(m.genres, '|')) AS genre\n",
    "    FROM \n",
    "        ratings r\n",
    "    JOIN \n",
    "        movies m ON r.movieId = m.movieId\n",
    "),\n",
    "genre_counts AS (\n",
    "    SELECT \n",
    "        userId,\n",
    "        genre,\n",
    "        COUNT(*) AS view_count,\n",
    "        ROW_NUMBER() OVER (PARTITION BY userId ORDER BY COUNT(*) DESC) AS rank\n",
    "    FROM \n",
    "        genre_expanded\n",
    "    GROUP BY \n",
    "        userId, genre\n",
    ")\n",
    "SELECT \n",
    "    userId, genre, view_count\n",
    "FROM \n",
    "    genre_counts\n",
    "WHERE \n",
    "    rank <= 5;\n"
   ]
  }
 ],
 "metadata": {},
 "nbformat": 4,
 "nbformat_minor": 5
}
