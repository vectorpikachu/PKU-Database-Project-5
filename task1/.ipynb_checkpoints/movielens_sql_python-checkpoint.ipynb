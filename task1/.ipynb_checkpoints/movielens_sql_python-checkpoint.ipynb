{
 "cells": [
  {
   "cell_type": "markdown",
   "id": "826c32df",
   "metadata": {},
   "source": [
    "# MovieLens 数据分析（SQL in Python 环境）"
   ]
  },
  {
   "cell_type": "code",
   "execution_count": null,
   "id": "1bcb4c2f",
   "metadata": {},
   "outputs": [],
   "source": [
    "import pandas as pd\n",
    "import sqlite3\n",
    "\n",
    "# 加载数据\n",
    "movies_df = pd.read_csv(\"movies.csv\")\n",
    "ratings_df = pd.read_csv(\"ratings.csv\")\n",
    "\n",
    "# 创建内存数据库\n",
    "conn = sqlite3.connect(\":memory:\")\n",
    "\n",
    "# 写入数据库\n",
    "movies_df.to_sql(\"movies\", conn, index=False, if_exists=\"replace\")\n",
    "ratings_df.to_sql(\"ratings\", conn, index=False, if_exists=\"replace\")\n"
   ]
  },
  {
   "cell_type": "markdown",
   "id": "b1f07374",
   "metadata": {},
   "source": [
    "## 任务一：平均得分前10的电影"
   ]
  },
  {
   "cell_type": "code",
   "execution_count": null,
   "id": "d949ddf5",
   "metadata": {},
   "outputs": [],
   "source": [
    "query1 = '''\n",
    "SELECT \n",
    "    m.title,\n",
    "    AVG(r.rating) AS avg_rating\n",
    "FROM \n",
    "    ratings r\n",
    "JOIN \n",
    "    movies m ON r.movieId = m.movieId\n",
    "GROUP BY \n",
    "    m.title\n",
    "ORDER BY \n",
    "    avg_rating DESC\n",
    "LIMIT 10;\n",
    "'''\n",
    "pd.read_sql_query(query1, conn)\n"
   ]
  },
  {
   "cell_type": "markdown",
   "id": "ac6d83ac",
   "metadata": {},
   "source": [
    "## 任务二：每个类型的平均得分前10的电影（Python 拆分类型）"
   ]
  },
  {
   "cell_type": "code",
   "execution_count": null,
   "id": "776d2ac7",
   "metadata": {},
   "outputs": [],
   "source": [
    "merged_df = pd.merge(ratings_df, movies_df, on=\"movieId\")\n",
    "merged_df['genres'] = merged_df['genres'].str.split('|')\n",
    "genre_df = merged_df.explode('genres')\n",
    "\n",
    "genre_df.to_sql(\"genre_expanded\", conn, index=False, if_exists=\"replace\")\n",
    "\n",
    "query2 = '''\n",
    "SELECT \n",
    "    genres AS genre,\n",
    "    title,\n",
    "    AVG(rating) AS avg_rating\n",
    "FROM \n",
    "    genre_expanded\n",
    "GROUP BY \n",
    "    genre, title\n",
    "ORDER BY \n",
    "    genre, avg_rating DESC\n",
    "'''\n",
    "pd.read_sql_query(query2, conn)\n"
   ]
  },
  {
   "cell_type": "markdown",
   "id": "66d95a19",
   "metadata": {},
   "source": [
    "## 任务三：每个用户评分最高的前5类型"
   ]
  },
  {
   "cell_type": "code",
   "execution_count": null,
   "id": "d30b1efd",
   "metadata": {},
   "outputs": [],
   "source": [
    "query3 = '''\n",
    "WITH genre_avg AS (\n",
    "    SELECT \n",
    "        userId,\n",
    "        genres AS genre,\n",
    "        AVG(rating) AS avg_rating\n",
    "    FROM \n",
    "        genre_expanded\n",
    "    GROUP BY \n",
    "        userId, genre\n",
    "),\n",
    "ranked AS (\n",
    "    SELECT *,\n",
    "           ROW_NUMBER() OVER (PARTITION BY userId ORDER BY avg_rating DESC) AS rank\n",
    "    FROM genre_avg\n",
    ")\n",
    "SELECT userId, genre, avg_rating\n",
    "FROM ranked\n",
    "WHERE rank <= 5\n",
    "'''\n",
    "pd.read_sql_query(query3, conn)\n"
   ]
  },
  {
   "cell_type": "markdown",
   "id": "0277f2e7",
   "metadata": {},
   "source": [
    "## 任务四：每个用户观影次数最多的前5类型"
   ]
  },
  {
   "cell_type": "code",
   "execution_count": null,
   "id": "80a6ff9b",
   "metadata": {},
   "outputs": [],
   "source": [
    "query4 = '''\n",
    "WITH genre_counts AS (\n",
    "    SELECT \n",
    "        userId,\n",
    "        genres AS genre,\n",
    "        COUNT(*) AS view_count\n",
    "    FROM \n",
    "        genre_expanded\n",
    "    GROUP BY \n",
    "        userId, genre\n",
    "),\n",
    "ranked AS (\n",
    "    SELECT *,\n",
    "           ROW_NUMBER() OVER (PARTITION BY userId ORDER BY view_count DESC) AS rank\n",
    "    FROM genre_counts\n",
    ")\n",
    "SELECT userId, genre, view_count\n",
    "FROM ranked\n",
    "WHERE rank <= 5\n",
    "'''\n",
    "pd.read_sql_query(query4, conn)\n"
   ]
  }
 ],
 "metadata": {},
 "nbformat": 4,
 "nbformat_minor": 5
}
